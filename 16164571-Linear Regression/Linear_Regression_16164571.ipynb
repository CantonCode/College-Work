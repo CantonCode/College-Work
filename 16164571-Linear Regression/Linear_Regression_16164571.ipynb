{
  "nbformat": 4,
  "nbformat_minor": 0,
  "metadata": {
    "colab": {
      "name": "Linear Regression 16164571",
      "provenance": [],
      "collapsed_sections": []
    },
    "kernelspec": {
      "name": "python3",
      "display_name": "Python 3"
    }
  },
  "cells": [
    {
      "cell_type": "markdown",
      "metadata": {
        "id": "CpgDkOguAhRe"
      },
      "source": [
        "# For this assignment I have used a data set found on google which is based off Youtube. It has two datasets, X which contains likes disliked and subscribers of a video and its creator and Y which contains the views on the video.\n",
        "\n",
        "# The purpose of this linear regression is to predict the number of views based on the number of likes dislikes and subribers a video has."
      ]
    },
    {
      "cell_type": "code",
      "metadata": {
        "id": "lsDO2GME2L4D"
      },
      "source": [
        "#Importing relevant packages to use for my project\n",
        "import tensorflow as tf\n",
        "\n",
        "from keras.models import Sequential\n",
        "from keras.layers import Dense\n",
        "from keras.optimizers import Adam\n",
        "from keras.callbacks import EarlyStopping\n",
        "\n",
        "import pandas as pd\n",
        "\n",
        "import sklearn\n",
        "from sklearn import preprocessing\n",
        "from sklearn.model_selection import train_test_split\n",
        "from sklearn.metrics import r2_score\n",
        "\n",
        "from matplotlib import pyplot as plt\n",
        "\n",
        "import seaborn as sns"
      ],
      "execution_count": 53,
      "outputs": []
    },
    {
      "cell_type": "markdown",
      "metadata": {
        "id": "ODY7MMUuCvEB"
      },
      "source": [
        "# In order to use the data it must be imported ffrom the files it is contained in. We use pandas built in CSV reader to do this and organise the data into two data frames"
      ]
    },
    {
      "cell_type": "code",
      "metadata": {
        "id": "2enIrBVb2eHa"
      },
      "source": [
        "#Using pandas the read in the data and convert them to data frames\n",
        "dataX = pd.read_csv('../StatsX.csv')\n",
        "\n",
        "dataY = pd.read_csv('../StatsY.csv')"
      ],
      "execution_count": 54,
      "outputs": []
    },
    {
      "cell_type": "markdown",
      "metadata": {
        "id": "-MINn4-4C6r-"
      },
      "source": [
        "# In order to check that the data has been imported properly and holds the desired format it is important to print out some of the data. Here you can see that we print out both data sets and we can confirm its contents and format is correct."
      ]
    },
    {
      "cell_type": "code",
      "metadata": {
        "id": "EI1YdwIQ3HFm",
        "outputId": "1fbd7a8a-ee16-40e2-a089-6e4b40c8e37a",
        "colab": {
          "base_uri": "https://localhost:8080/"
        }
      },
      "source": [
        "#Printing out the dataX frame to check its contents\n",
        "print(dataX)"
      ],
      "execution_count": 55,
      "outputs": [
        {
          "output_type": "stream",
          "text": [
            "       Likes  Dislikes  Subscribers\n",
            "0     104460      3365      7300000\n",
            "1     103203      3570      3300000\n",
            "2      22485       612      1800000\n",
            "3      23077      1337       465000\n",
            "4      12315       522     11000000\n",
            "...      ...       ...          ...\n",
            "3359    4833        47       465000\n",
            "3360     118        16        19000\n",
            "3361      29         2         6100\n",
            "3362     321        34         3400\n",
            "3363     143         7       116000\n",
            "\n",
            "[3364 rows x 3 columns]\n"
          ],
          "name": "stdout"
        }
      ]
    },
    {
      "cell_type": "code",
      "metadata": {
        "id": "9BRZtfNm3fgp",
        "outputId": "10dc154e-4f32-4d6e-8add-e544f7a242c7",
        "colab": {
          "base_uri": "https://localhost:8080/"
        }
      },
      "source": [
        "#Printing out the dataY frame to check its contents\n",
        "print(dataY)"
      ],
      "execution_count": 56,
      "outputs": [
        {
          "output_type": "stream",
          "text": [
            "        Views\n",
            "0     1988888\n",
            "1     2617005\n",
            "2      932230\n",
            "3     1165800\n",
            "4      551165\n",
            "...       ...\n",
            "3359   193093\n",
            "3360    21784\n",
            "3361     5427\n",
            "3362   150226\n",
            "3363    29077\n",
            "\n",
            "[3364 rows x 1 columns]\n"
          ],
          "name": "stdout"
        }
      ]
    },
    {
      "cell_type": "markdown",
      "metadata": {
        "id": "40vaxyz9Ekl6"
      },
      "source": [
        "# Once the data is imported it is important to pre process the data to get it setup for input into our model. To do this I used a module from SKLearn train_test_split() to organise the data into testing and training data to feed into the model.\n",
        "\n",
        "\n",
        "# We use the training data to minimise the cost while the testing data is a seperate chunk of data used for testing the models overall preformance. \n",
        "\n",
        "# We define the test size to 0.2 which means 80% of the data will be randomly selected for training while the other 20% will be selected for testing \n",
        "\n"
      ]
    },
    {
      "cell_type": "code",
      "metadata": {
        "id": "_Yp8ANBv3iEa"
      },
      "source": [
        "#Using sklearn library to split the testing data\n",
        "x_train, x_test, y_train, y_test = train_test_split(dataX, dataY, test_size = 0.2)"
      ],
      "execution_count": 57,
      "outputs": []
    },
    {
      "cell_type": "markdown",
      "metadata": {
        "id": "KiDfGko4GJFl"
      },
      "source": [
        "It is then important to make sure we scale and normalize our data. This is especially important where inputs and outputs for different features vary greatly.\n",
        "\n",
        "As you can see above when printing out our data the number of subsribers vs dislikes varies a lot and in a neural network this would cause for an under represtentaion of these perameters.\n",
        "\n"
      ]
    },
    {
      "cell_type": "code",
      "metadata": {
        "id": "sZ_D8x4a30_p"
      },
      "source": [
        "x_train = preprocessing.scale(x_train)\n",
        "\n",
        "x_test = preprocessing.scale(x_test)"
      ],
      "execution_count": 58,
      "outputs": []
    },
    {
      "cell_type": "markdown",
      "metadata": {
        "id": "VV-d4XFLIQ6H"
      },
      "source": [
        "# From here we can work on our model that we will be using. In this model I use different learning rates to show how they can effect the learning algorithim\n",
        "\n",
        "# I create a model that as 3 inputs, this correlates with the data we are feeding in : likes, dislikes and subsribers. The model will then have one output layers : Views\n",
        "\n",
        "# I use the adam optimiser along with the mean squared error to adjust the models weights.\n",
        "\n",
        "# The model is then ran and accuracy is graphed. We can see the R score on each iteration improve as the models learning rate is increased \n",
        "\n"
      ]
    },
    {
      "cell_type": "code",
      "metadata": {
        "id": "_mgYpC2D5zB1",
        "outputId": "55ba1b58-40fa-4360-c838-94503dc80f1b",
        "colab": {
          "base_uri": "https://localhost:8080/",
          "height": 1000
        }
      },
      "source": [
        "LR = [100,1000,10000,15000]\n",
        "\n",
        "for i in LR:\n",
        "    #Defines linear regression model and its structure\n",
        "    model = Sequential()\n",
        "    model.add(Dense(1, input_shape=(3,)))\n",
        "    \n",
        "    #Compiles model\n",
        "    model.compile(Adam(lr=i), 'mean_squared_error')\n",
        "    \n",
        "    #Fits model\n",
        "    history = model.fit(x_train, y_train, epochs = 500, validation_split = 0.1,verbose = 0)\n",
        "    history_dict=history.history\n",
        "    \n",
        "    #Plots model's training cost/loss and model's validation split cost/loss\n",
        "    loss_values = history_dict['loss']\n",
        "    val_loss_values=history_dict['val_loss']\n",
        "    plt.figure()\n",
        "    plt.plot(loss_values,'bo',label='training loss')\n",
        "    plt.plot(val_loss_values,'r',label='val training loss')\n",
        "\n",
        "    y_train_pred = model.predict(x_train)\n",
        "    y_test_pred = model.predict(x_test)\n",
        "\n",
        "    # Calculates and prints r2 score of training and testing data\n",
        "    print(\"The R2 score on the Train set is:\\t{:0.3f}\".format(r2_score(y_train, y_train_pred)))\n",
        "    print(\"The R2 score on the Test set is:\\t{:0.3f}\".format(r2_score(y_test, y_test_pred)))"
      ],
      "execution_count": 59,
      "outputs": [
        {
          "output_type": "stream",
          "text": [
            "The R2 score on the Train set is:\t0.011\n",
            "The R2 score on the Test set is:\t0.007\n",
            "The R2 score on the Train set is:\t0.293\n",
            "The R2 score on the Test set is:\t0.418\n",
            "The R2 score on the Train set is:\t0.797\n",
            "The R2 score on the Test set is:\t0.727\n",
            "The R2 score on the Train set is:\t0.805\n",
            "The R2 score on the Test set is:\t0.706\n"
          ],
          "name": "stdout"
        },
        {
          "output_type": "display_data",
          "data": {
            "image/png": "[encoded data removed]",
            "text/plain": [
              "<Figure size 432x288 with 1 Axes>"
            ]
          },
          "metadata": {
            "tags": [],
            "needs_background": "light"
          }
        },
        {
          "output_type": "display_data",
          "data": {
            "image/png": "[encoded data removed]",
            "text/plain": [
              "<Figure size 432x288 with 1 Axes>"
            ]
          },
          "metadata": {
            "tags": [],
            "needs_background": "light"
          }
        },
        {
          "output_type": "display_data",
          "data": {
            "image/png": "[encoded data removed]",
            "text/plain": [
              "<Figure size 432x288 with 1 Axes>"
            ]
          },
          "metadata": {
            "tags": [],
            "needs_background": "light"
          }
        },
        {
          "output_type": "display_data",
          "data": {
            "image/png": "[encoded data removed]",
            "text/plain": [
              "<Figure size 432x288 with 1 Axes>"
            ]
          },
          "metadata": {
            "tags": [],
            "needs_background": "light"
          }
        }
      ]
    },
    {
      "cell_type": "markdown",
      "metadata": {
        "id": "iHbDtAV7QDzi"
      },
      "source": [
        "# I also decided to add an activation to the layer to see if it improved my model but there was minimal improvement between these models"
      ]
    },
    {
      "cell_type": "code",
      "metadata": {
        "id": "ITfU5btF6XKP",
        "outputId": "24a990fd-7a23-4fea-f175-12f3a7f22619",
        "colab": {
          "base_uri": "https://localhost:8080/",
          "height": 295
        }
      },
      "source": [
        "model = Sequential()\n",
        "model.add(Dense(1, input_shape=(3,), activation = 'relu'))\n",
        "model.compile(Adam(lr=15000), 'mean_squared_error')\n",
        "history = model.fit(x_train, y_train, epochs = 500, validation_split = 0.1,verbose = 0)\n",
        "\n",
        "history_dict=history.history\n",
        "loss_values = history_dict['loss']\n",
        "val_loss_values=history_dict['val_loss']\n",
        "plt.plot(loss_values,'bo',label='training loss')\n",
        "plt.plot(val_loss_values,'r',label='training loss val')"
      ],
      "execution_count": 60,
      "outputs": [
        {
          "output_type": "execute_result",
          "data": {
            "text/plain": [
              "[<matplotlib.lines.Line2D at 0x7f99c956b908>]"
            ]
          },
          "metadata": {
            "tags": []
          },
          "execution_count": 60
        },
        {
          "output_type": "display_data",
          "data": {
            "image/png": "[encoded data removed]",
            "text/plain": [
              "<Figure size 432x288 with 1 Axes>"
            ]
          },
          "metadata": {
            "tags": [],
            "needs_background": "light"
          }
        }
      ]
    },
    {
      "cell_type": "code",
      "metadata": {
        "id": "2ttFadP17CJ6",
        "outputId": "f61fff0a-b19d-41a8-d0d8-0e072cb2f382",
        "colab": {
          "base_uri": "https://localhost:8080/"
        }
      },
      "source": [
        "y_train_pred = model.predict(x_train)\n",
        "y_test_pred = model.predict(x_test)\n",
        "\n",
        "\n",
        "\n",
        "# Calculates and prints r2 score of training and testing data\n",
        "print(\"The R2 score on the Train set is:\\t{:0.3f}\".format(r2_score(y_train, y_train_pred)))\n",
        "print(\"The R2 score on the Test set is:\\t{:0.3f}\".format(r2_score(y_test, y_test_pred)))"
      ],
      "execution_count": 63,
      "outputs": [
        {
          "output_type": "stream",
          "text": [
            "The R2 score on the Train set is:\t0.805\n",
            "The R2 score on the Test set is:\t0.708\n"
          ],
          "name": "stdout"
        }
      ]
    },
    {
      "cell_type": "markdown",
      "metadata": {
        "id": "8k4jZvQrlDuV"
      },
      "source": [
        "# Above you can see that we have a relativetly high R2 score which shows that the accuracy of our model is quiet good and represents our data well"
      ]
    },
    {
      "cell_type": "code",
      "metadata": {
        "id": "2oIXLqcE-GhP",
        "outputId": "95e225b2-544b-44c0-f87c-53334b305e68",
        "colab": {
          "base_uri": "https://localhost:8080/",
          "height": 325
        }
      },
      "source": [
        "plt.plot(y_train, y_train_pred,'*r')\n",
        "plt.plot(y_test, y_test_pred, '*g')\n",
        "plt.figure()\n",
        "\n",
        "\n"
      ],
      "execution_count": 62,
      "outputs": [
        {
          "output_type": "execute_result",
          "data": {
            "text/plain": [
              "<Figure size 432x288 with 0 Axes>"
            ]
          },
          "metadata": {
            "tags": []
          },
          "execution_count": 62
        },
        {
          "output_type": "display_data",
          "data": {
            "image/png": "[encoded data removed]",
            "text/plain": [
              "<Figure size 432x288 with 1 Axes>"
            ]
          },
          "metadata": {
            "tags": [],
            "needs_background": "light"
          }
        },
        {
          "output_type": "display_data",
          "data": {
            "text/plain": [
              "<Figure size 432x288 with 0 Axes>"
            ]
          },
          "metadata": {
            "tags": []
          }
        }
      ]
    },
    {
      "cell_type": "code",
      "metadata": {
        "id": "mglYHIqk-PNc"
      },
      "source": [
        ""
      ],
      "execution_count": null,
      "outputs": []
    },
    {
      "cell_type": "markdown",
      "metadata": {
        "id": "EK8IizgDQZeT"
      },
      "source": [
        "# As we can see the model is preforming quiet well and that the relationship is quiet linear"
      ]
    }
  ]
}