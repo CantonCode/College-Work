{
  "nbformat": 4,
  "nbformat_minor": 0,
  "metadata": {
    "kernelspec": {
      "display_name": "Python 3",
      "language": "python",
      "name": "python3"
    },
    "language_info": {
      "codemirror_mode": {
        "name": "ipython",
        "version": 3
      },
      "file_extension": ".py",
      "mimetype": "text/x-python",
      "name": "python",
      "nbconvert_exporter": "python",
      "pygments_lexer": "ipython3",
      "version": "3.8.5"
    },
    "colab": {
      "name": "Final Proj1 16164571 MLIB.ipynb",
      "provenance": [],
      "collapsed_sections": []
    }
  },
  "cells": [
    {
      "cell_type": "code",
      "metadata": {
        "id": "K-Ezk218nojZ",
        "outputId": "35edab3e-cc08-4de8-bb0d-cdbbcae4e437",
        "colab": {
          "base_uri": "https://localhost:8080/"
        }
      },
      "source": [
        "%env SPARK_HOME = /home/conorstreete/CS4337/lib/python3.8/site-packages/pyspark"
      ],
      "execution_count": 46,
      "outputs": [
        {
          "output_type": "stream",
          "text": [
            "env: SPARK_HOME=/home/conorstreete/CS4337/lib/python3.8/site-packages/pyspark\n"
          ],
          "name": "stdout"
        }
      ]
    },
    {
      "cell_type": "code",
      "metadata": {
        "scrolled": true,
        "id": "VJRRO_X_nojc"
      },
      "source": [
        "#Importing required libraries that will be used throughout the project code\n",
        "\n",
        "import findspark\n",
        "import pyspark.sql.functions\n",
        "import pyspark.sql.types\n",
        "import pandas as pd\n",
        "import numpy as np\n",
        "import seaborn as sns\n",
        "import matplotlib.pyplot as plt\n"
      ],
      "execution_count": 47,
      "outputs": []
    },
    {
      "cell_type": "code",
      "metadata": {
        "id": "jt49W4Aonoje"
      },
      "source": [
        "#Initialises the spark enviroment variable\n",
        "findspark.init()"
      ],
      "execution_count": 48,
      "outputs": []
    },
    {
      "cell_type": "code",
      "metadata": {
        "id": "ko_NBNNyOE5Y"
      },
      "source": [
        "#!/usr/bin/env python\n",
        "\n",
        "import sys\n",
        "import itertools\n",
        "from math import sqrt\n",
        "from operator import add\n",
        "import os\n",
        "from os.path import join, isfile, dirname\n",
        "\n",
        "import findspark\n",
        "import pyspark.sql.functions as F\n",
        "import pyspark.sql.types\n",
        "\n",
        "from pyspark.sql import SparkSession\n",
        "from pyspark.mllib.recommendation import ALS\n",
        "\n",
        "def parseRating(line):\n",
        "    \"\"\"\n",
        "    Parses a rating record in MovieLens format userId::movieId::rating::timestamp .\n",
        "    \"\"\"\n",
        "    fields = line.strip().split(\",\")\n",
        "    return int(fields[0]), int(fields[1]), float(fields[2])\n",
        "\n",
        "def parseMovie(line):\n",
        "    \"\"\"\n",
        "    Parses a movie record in MovieLens format movieId::movieTitle .\n",
        "    \"\"\"\n",
        "    fields = line.strip().split(\",\")\n",
        "    return int(fields[0]), fields[1]\n",
        "\n",
        "def loadRatings(ratingsFile):\n",
        "    \"\"\"\n",
        "    Load ratings from file.\n",
        "    \"\"\"\n",
        "    if not isfile(ratingsFile):\n",
        "        print(\"File %s does not exist.\" % ratingsFile)\n",
        "        sys.exit(1)\n",
        "    f = open(ratingsFile, 'r')\n",
        "    ratings = list(filter(lambda r: r[2] > 0, [parseRating(line)[1] for line in f]))\n",
        "    f.close()\n",
        "    if not ratings:\n",
        "        print(\"No ratings provided.\")\n",
        "        sys.exit(1)\n",
        "    else:\n",
        "        return ratings\n",
        "\n",
        "def computeRmse(model, data, n):\n",
        "    \"\"\"\n",
        "    Compute RMSE (Root Mean Squared Error).\n",
        "    \"\"\"\n",
        "    predictions = model.predictAll(data.rdd.map(lambda x: (x[0], x[1])))\n",
        "    predictionsAndRatings = predictions.map(lambda x: ((x[0], x[1]), x[2])) \\\n",
        "      .join(data.rdd.map(lambda x: ((x[0], x[1]), x[2]))) \\\n",
        "      .values()\n",
        "    return sqrt(predictionsAndRatings.map(lambda x: (x[0] - x[1]) ** 2).reduce(add) / float(n))\n",
        "\n",
        "if __name__ == \"__main__\":\n",
        "\n",
        "    # set up environment\n",
        "    # Build the SparkSession\n",
        "    spark = SparkSession.builder \\\n",
        "    .master(\"local\") \\\n",
        "    .appName(\"Project 1 CS4337\") \\\n",
        "    .config(\"spark.executor.memory\", \"3gb\") \\\n",
        "    .getOrCreate()\n",
        "\n",
        "    sc = spark.sparkContext\n",
        "\n",
        "    # load personal ratings\n",
        "    myRatings = sc.textFile('Project1/personalratings.txt').map(parseRating)\n",
        "    \n",
        "    # load ratings and movie titles\n",
        "\n",
        "    movieLensHomeDir = os.path.abspath('Project1/movieData')\n",
        "\n",
        "    # ratings is an RDD of (last digit of timestamp, (userId, movieId, rating))\n",
        "    ratings = sc.textFile(\"Project1/ratings.dat\").map(parseRating)\n",
        "\n",
        "    # movies is an RDD of (movieId, movieTitle)\n",
        "    movies = sc.textFile(\"Project1/movies.dat\").map(parseMovie)"
      ],
      "execution_count": 49,
      "outputs": []
    },
    {
      "cell_type": "code",
      "metadata": {
        "id": "MJYv5UZ8ZXl0",
        "outputId": "a89fdaec-edce-4f45-c101-bdafe43e0431",
        "colab": {
          "base_uri": "https://localhost:8080/"
        }
      },
      "source": [
        "#Important to ensure that rarings are properly imported in the correct format\n",
        "myRatings.take(10)\n"
      ],
      "execution_count": 50,
      "outputs": [
        {
          "output_type": "execute_result",
          "data": {
            "text/plain": [
              "[(0, 1, 4.0),\n",
              " (0, 780, 2.0),\n",
              " (0, 590, 3.0),\n",
              " (0, 1210, 0.0),\n",
              " (0, 648, 4.0),\n",
              " (0, 344, 0.0),\n",
              " (0, 165, 5.0),\n",
              " (0, 153, 1.0),\n",
              " (0, 597, 2.0),\n",
              " (0, 1580, 3.0)]"
            ]
          },
          "metadata": {
            "tags": []
          },
          "execution_count": 50
        }
      ]
    },
    {
      "cell_type": "code",
      "metadata": {
        "id": "QSgJEnANnojv"
      },
      "source": [
        "# Import the necessary modules\n",
        "from pyspark.sql import Row\n",
        "# Map the RDD to a DF\n",
        "movdf = movies.map(lambda line: Row(movie=line[0],\n",
        " title=line[1])).toDF()"
      ],
      "execution_count": 51,
      "outputs": []
    },
    {
      "cell_type": "code",
      "metadata": {
        "id": "4aA5hXtbHfxI"
      },
      "source": [
        ""
      ],
      "execution_count": 51,
      "outputs": []
    },
    {
      "cell_type": "code",
      "metadata": {
        "id": "KlZ2hycXnojw"
      },
      "source": [
        "from pyspark.sql.types import *\n",
        "#Giving the movie dataframe its types and formatting it to be movie: int , title: string\n",
        "movdf = movdf.withColumn(\"movie\", movdf[\"movie\"].cast(IntegerType())) \\\n",
        ".withColumn(\"title\", movdf[\"title\"].cast(StringType())) \n",
        "\n",
        "\n",
        "#Caching the dataframe for better performance\n",
        "movdf.cache()\n",
        "#Testing to make sure that the dataframe was proprely cached\n",
        "assert movdf.is_cached"
      ],
      "execution_count": 52,
      "outputs": []
    },
    {
      "cell_type": "code",
      "metadata": {
        "id": "z9I_AC8Bnoj2"
      },
      "source": [
        "#Mapping RDD to a dataframe\n",
        "ratdf = ratings.map(lambda line: Row(user=line[0],\n",
        " product=line[1],\n",
        " rating=line[2])).toDF()"
      ],
      "execution_count": 53,
      "outputs": []
    },
    {
      "cell_type": "code",
      "metadata": {
        "id": "4YGv26rznoj3"
      },
      "source": [
        "#Assigning types and formatting the dataframe to be user: int, product: int, rating: float\n",
        "ratdf = ratdf.withColumn(\"user\", ratdf[\"user\"].cast(IntegerType())) \\\n",
        ".withColumn(\"product\", ratdf[\"product\"].cast(\"integer\")) \\\n",
        ".withColumn(\"rating\", ratdf[\"rating\"].cast(\"float\")) \n",
        "\n",
        "#Caching data frame for better performance\n",
        "ratdf.cache()\n",
        "#Testing to make sure dataframe is propely cached\n",
        "assert ratdf.is_cached"
      ],
      "execution_count": 54,
      "outputs": []
    },
    {
      "cell_type": "code",
      "metadata": {
        "id": "CHyZ9SEcnoj5",
        "outputId": "5feaae26-ef37-4052-bed0-b8effa011893",
        "colab": {
          "base_uri": "https://localhost:8080/"
        }
      },
      "source": [
        "#Printing out data frame to double check its correct along with the schema\n",
        "ratdf.show(truncate = False)\n",
        "ratdf.printSchema()\n",
        "\n",
        "\n",
        "movdf.show(truncate = False)\n",
        "movdf.printSchema()\n"
      ],
      "execution_count": 55,
      "outputs": [
        {
          "output_type": "stream",
          "text": [
            "+----+-------+------+\n",
            "|user|product|rating|\n",
            "+----+-------+------+\n",
            "|1   |1      |4.0   |\n",
            "|1   |3      |4.0   |\n",
            "|1   |6      |4.0   |\n",
            "|1   |47     |5.0   |\n",
            "|1   |50     |5.0   |\n",
            "|1   |70     |3.0   |\n",
            "|1   |101    |5.0   |\n",
            "|1   |110    |4.0   |\n",
            "|1   |151    |5.0   |\n",
            "|1   |157    |5.0   |\n",
            "|1   |163    |5.0   |\n",
            "|1   |216    |5.0   |\n",
            "|1   |223    |3.0   |\n",
            "|1   |231    |5.0   |\n",
            "|1   |235    |4.0   |\n",
            "|1   |260    |5.0   |\n",
            "|1   |296    |3.0   |\n",
            "|1   |316    |3.0   |\n",
            "|1   |333    |5.0   |\n",
            "|1   |349    |4.0   |\n",
            "+----+-------+------+\n",
            "only showing top 20 rows\n",
            "\n",
            "root\n",
            " |-- user: integer (nullable = true)\n",
            " |-- product: integer (nullable = true)\n",
            " |-- rating: float (nullable = true)\n",
            "\n",
            "+-----+-------------------------------------+\n",
            "|movie|title                                |\n",
            "+-----+-------------------------------------+\n",
            "|1    |Toy Story (1995)                     |\n",
            "|2    |Jumanji (1995)                       |\n",
            "|3    |Grumpier Old Men (1995)              |\n",
            "|4    |Waiting to Exhale (1995)             |\n",
            "|5    |Father of the Bride Part II (1995)   |\n",
            "|6    |Heat (1995)                          |\n",
            "|7    |Sabrina (1995)                       |\n",
            "|8    |Tom and Huck (1995)                  |\n",
            "|9    |Sudden Death (1995)                  |\n",
            "|10   |GoldenEye (1995)                     |\n",
            "|11   |\"American President                  |\n",
            "|12   |Dracula: Dead and Loving It (1995)   |\n",
            "|13   |Balto (1995)                         |\n",
            "|14   |Nixon (1995)                         |\n",
            "|15   |Cutthroat Island (1995)              |\n",
            "|16   |Casino (1995)                        |\n",
            "|17   |Sense and Sensibility (1995)         |\n",
            "|18   |Four Rooms (1995)                    |\n",
            "|19   |Ace Ventura: When Nature Calls (1995)|\n",
            "|20   |Money Train (1995)                   |\n",
            "+-----+-------------------------------------+\n",
            "only showing top 20 rows\n",
            "\n",
            "root\n",
            " |-- movie: integer (nullable = true)\n",
            " |-- title: string (nullable = true)\n",
            "\n"
          ],
          "name": "stdout"
        }
      ]
    },
    {
      "cell_type": "code",
      "metadata": {
        "id": "yRFABf8ZZeFV"
      },
      "source": [
        "#Converting my personal movies to a dataframe\n",
        "myRatDf = myRatings.map(lambda line: Row(user=line[0],\n",
        " product=line[1],\n",
        " rating=line[2])).toDF()"
      ],
      "execution_count": 56,
      "outputs": []
    },
    {
      "cell_type": "code",
      "metadata": {
        "id": "pyJ30Qr3ZnNk"
      },
      "source": [
        "#Assigning types and formatting the dataframe to be user: int, product: int, rating: float\n",
        "myRatDf = myRatDf.withColumn(\"user\", myRatDf[\"user\"].cast(IntegerType())) \\\n",
        ".withColumn(\"product\", myRatDf[\"product\"].cast(\"integer\")) \\\n",
        ".withColumn(\"rating\", myRatDf[\"rating\"].cast(\"float\")) "
      ],
      "execution_count": 57,
      "outputs": []
    },
    {
      "cell_type": "code",
      "metadata": {
        "id": "x1ZOYxBJZx_j",
        "outputId": "99f59e69-fa62-4c22-c3ee-a89d48dc11ae",
        "colab": {
          "base_uri": "https://localhost:8080/"
        }
      },
      "source": [
        "#Printing out dataframe to ensure it is correct along with schema\n",
        "myRatDf.show(truncate = False)\n",
        "myRatDf.printSchema()"
      ],
      "execution_count": 58,
      "outputs": [
        {
          "output_type": "stream",
          "text": [
            "+----+-------+------+\n",
            "|user|product|rating|\n",
            "+----+-------+------+\n",
            "|0   |1      |4.0   |\n",
            "|0   |780    |2.0   |\n",
            "|0   |590    |3.0   |\n",
            "|0   |1210   |0.0   |\n",
            "|0   |648    |4.0   |\n",
            "|0   |344    |0.0   |\n",
            "|0   |165    |5.0   |\n",
            "|0   |153    |1.0   |\n",
            "|0   |597    |2.0   |\n",
            "|0   |1580   |3.0   |\n",
            "|0   |231    |5.0   |\n",
            "+----+-------+------+\n",
            "\n",
            "root\n",
            " |-- user: integer (nullable = true)\n",
            " |-- product: integer (nullable = true)\n",
            " |-- rating: float (nullable = true)\n",
            "\n"
          ],
          "name": "stdout"
        }
      ]
    },
    {
      "cell_type": "code",
      "metadata": {
        "id": "yBpnvM3NasNy"
      },
      "source": [
        "#Join the two ratings dataframes to incorporate your data along with the MovieLens dataset\n",
        "ratdf = myRatDf.union(ratdf);"
      ],
      "execution_count": 59,
      "outputs": []
    },
    {
      "cell_type": "code",
      "metadata": {
        "id": "afvzvJh5aWnx",
        "outputId": "e8f57f4a-5dbf-4c0c-b4ba-d8843754e7ad",
        "colab": {
          "base_uri": "https://localhost:8080/"
        }
      },
      "source": [
        "#Print out the newly joined ratings \n",
        "ratdf.show()\n",
        "\n",
        "#Counts number of movies that are now in the dataset\n",
        "movdf_count = movdf.count()\n",
        "print(\"MOVIE COUNT:\", movdf_count)\n",
        "\n",
        "#Counts the number of ratings that are now in the dataset\n",
        "ratdf_count = ratdf.count()\n",
        "print(\"RATING COUNT:\",ratdf_count)\n"
      ],
      "execution_count": 60,
      "outputs": [
        {
          "output_type": "stream",
          "text": [
            "+----+-------+------+\n",
            "|user|product|rating|\n",
            "+----+-------+------+\n",
            "|   0|      1|   4.0|\n",
            "|   0|    780|   2.0|\n",
            "|   0|    590|   3.0|\n",
            "|   0|   1210|   0.0|\n",
            "|   0|    648|   4.0|\n",
            "|   0|    344|   0.0|\n",
            "|   0|    165|   5.0|\n",
            "|   0|    153|   1.0|\n",
            "|   0|    597|   2.0|\n",
            "|   0|   1580|   3.0|\n",
            "|   0|    231|   5.0|\n",
            "|   1|      1|   4.0|\n",
            "|   1|      3|   4.0|\n",
            "|   1|      6|   4.0|\n",
            "|   1|     47|   5.0|\n",
            "|   1|     50|   5.0|\n",
            "|   1|     70|   3.0|\n",
            "|   1|    101|   5.0|\n",
            "|   1|    110|   4.0|\n",
            "|   1|    151|   5.0|\n",
            "+----+-------+------+\n",
            "only showing top 20 rows\n",
            "\n",
            "MOVIE COUNT: 9742\n",
            "RATING COUNT: 100847\n"
          ],
          "name": "stdout"
        }
      ]
    },
    {
      "cell_type": "code",
      "metadata": {
        "id": "wtCHRq7quS-M",
        "outputId": "ca6b554f-24b0-4640-d803-a60e408b87c6",
        "colab": {
          "base_uri": "https://localhost:8080/"
        }
      },
      "source": [
        "#Counts the number of total users who have rated movies\n",
        "rdf2 = ratdf.select(\"user\")\n",
        "print(\"Number of Users:\")\n",
        "print(rdf2.distinct().count())"
      ],
      "execution_count": 61,
      "outputs": [
        {
          "output_type": "stream",
          "text": [
            "Number of Users:\n",
            "611\n"
          ],
          "name": "stdout"
        }
      ]
    },
    {
      "cell_type": "code",
      "metadata": {
        "id": "6eiEx5Tz3VQ_",
        "outputId": "577876fc-4eb2-431c-fe98-2046e92710e3",
        "colab": {
          "base_uri": "https://localhost:8080/"
        }
      },
      "source": [
        "#Split the dataset randomly in order to obtain a random split of data for training, validation and testing\n",
        "(training, validation, test) = ratdf.randomSplit([0.6, 0.2 , 0.2], seed=42)\n",
        "#These are all cached to enchance performance\n",
        "training.cache()\n",
        "validation.cache()\n",
        "test.cache()"
      ],
      "execution_count": 62,
      "outputs": [
        {
          "output_type": "execute_result",
          "data": {
            "text/plain": [
              "DataFrame[user: int, product: int, rating: float]"
            ]
          },
          "metadata": {
            "tags": []
          },
          "execution_count": 62
        }
      ]
    },
    {
      "cell_type": "code",
      "metadata": {
        "id": "TXlDetN34PSo",
        "outputId": "a7fde814-7594-42fb-ec0d-fe1848919c9f",
        "colab": {
          "base_uri": "https://localhost:8080/"
        }
      },
      "source": [
        "#Printing out data to ensure they contain data\n",
        "training.show(3)\n",
        "validation.show(3)\n",
        "test.show(3)\n",
        "\n",
        "\n",
        "#prints out the data count so we can check that the data split how we wanted it to\n",
        "print('Training: {0}, validation: {1}, test: {2}\\n'.format(\n",
        "  training.count(), validation.count(), test.count())\n",
        ")"
      ],
      "execution_count": 63,
      "outputs": [
        {
          "output_type": "stream",
          "text": [
            "+----+-------+------+\n",
            "|user|product|rating|\n",
            "+----+-------+------+\n",
            "|   0|    153|   1.0|\n",
            "|   0|    231|   5.0|\n",
            "|   0|    590|   3.0|\n",
            "+----+-------+------+\n",
            "only showing top 3 rows\n",
            "\n",
            "+----+-------+------+\n",
            "|user|product|rating|\n",
            "+----+-------+------+\n",
            "|   0|      1|   4.0|\n",
            "|   0|    344|   0.0|\n",
            "|   0|   1210|   0.0|\n",
            "+----+-------+------+\n",
            "only showing top 3 rows\n",
            "\n",
            "+----+-------+------+\n",
            "|user|product|rating|\n",
            "+----+-------+------+\n",
            "|   0|    165|   5.0|\n",
            "|   0|    597|   2.0|\n",
            "|   0|    780|   2.0|\n",
            "+----+-------+------+\n",
            "only showing top 3 rows\n",
            "\n",
            "Training: 60707, validation: 20048, test: 20092\n",
            "\n"
          ],
          "name": "stdout"
        }
      ]
    },
    {
      "cell_type": "code",
      "metadata": {
        "id": "5-FuOc2JwioK"
      },
      "source": [
        "#retrieves the movie name from its id\n",
        "def name_retriever(movie_id):\n",
        "    data = movdf.where((F.col(\"movie\") == movie_id)).collect()\n",
        "    for row in data:\n",
        "     title =str(row['title'])\n",
        "\n",
        "    return title\n",
        "    "
      ],
      "execution_count": 64,
      "outputs": []
    },
    {
      "cell_type": "code",
      "metadata": {
        "id": "btUU7k8T58Ka"
      },
      "source": [
        "#importing ALS model library from pyspark machince learning library\n",
        "from pyspark.ml.recommendation import ALS\n",
        "\n",
        "als = ALS(maxIter=5, regParam=0.1,seed=42, userCol= \"user\", \n",
        "                      itemCol = \"product\", ratingCol = \"rating\",coldStartStrategy = \"drop\")"
      ],
      "execution_count": 65,
      "outputs": []
    },
    {
      "cell_type": "code",
      "metadata": {
        "id": "KrMWtDAWQhH3",
        "outputId": "93c718d3-49f2-4a30-80fc-c85050b3d3a9",
        "colab": {
          "base_uri": "https://localhost:8080/"
        }
      },
      "source": [
        "from pyspark.ml.evaluation import RegressionEvaluator\n",
        "\n",
        "# Create an RMSE evaluator\n",
        "evaluator = RegressionEvaluator(predictionCol=\"prediction\",metricName=\"rmse\", labelCol=\"rating\")\n",
        "\n",
        "print(evaluator)"
      ],
      "execution_count": 66,
      "outputs": [
        {
          "output_type": "stream",
          "text": [
            "RegressionEvaluator_97adc0a1c74d\n"
          ],
          "name": "stdout"
        }
      ]
    },
    {
      "cell_type": "code",
      "metadata": {
        "id": "SvpYVWIxnJER",
        "outputId": "789d4293-50c2-4955-a1a7-fc36b697f9d7",
        "colab": {
          "base_uri": "https://localhost:8080/"
        }
      },
      "source": [
        "\n",
        "\n",
        "tolerance = 0.03\n",
        "ranks = [4, 8, 12]\n",
        "errors = [0, 0, 0]\n",
        "models = [0, 0, 0]\n",
        "err = 0\n",
        "min_error = float('inf')\n",
        "best_rank = -1\n",
        "#We will train the model over different ranks to ensure we find the best fit for the model and avoid under or underfitting\n",
        "for rank in ranks:\n",
        "  # Set the rank here:\n",
        "  als.setRank(rank)\n",
        "  # Create the model with out training data\n",
        "  model = als.fit(training)\n",
        "  # I run the model agaisnt the validation data for it to make a prediction.\n",
        "  prediction = model.transform(validation)\n",
        "\n",
        "\n",
        "#When training we want to see waht model has the lowest RMSE which allows us to know which model is most accurate\n",
        "  error = evaluator.evaluate(prediction)\n",
        "  errors[err] = error\n",
        "  models[err] = model\n",
        "  print ('For rank %s the RMSE is %s' % (rank, error))\n",
        "  if error < min_error:\n",
        "    min_error = error\n",
        "    best_rank = err\n",
        "  err += 1\n",
        "\n",
        "#Sets model to the best found rank\n",
        "als.setRank(ranks[best_rank])\n",
        "print ('The best model was trained with rank %s' % ranks[best_rank])\n",
        "my_model = models[best_rank]"
      ],
      "execution_count": 67,
      "outputs": [
        {
          "output_type": "stream",
          "text": [
            "For rank 4 the RMSE is 0.9408491956703827\n",
            "For rank 8 the RMSE is 0.930852903922386\n",
            "For rank 12 the RMSE is 0.9280193252263161\n",
            "The best model was trained with rank 12\n"
          ],
          "name": "stdout"
        }
      ]
    },
    {
      "cell_type": "code",
      "metadata": {
        "id": "6RBrefc_rIN2",
        "outputId": "14c0a321-bad9-4c56-f43d-93859706f944",
        "colab": {
          "base_uri": "https://localhost:8080/"
        }
      },
      "source": [
        "num_of_movies = 10\n",
        "#Using als built in function to create a recommendation for all users based off their own movie ratings\n",
        "recommended_movie_df = my_model.recommendForAllUsers(num_of_movies)\n",
        "#Selecting user 0 which is my user recommendations to be collected\n",
        "recommendations = recommended_movie_df.where(recommended_movie_df.user == 0).collect()\n",
        "\n",
        "print(\"recommendations for user : 0 \")\n",
        "\n",
        "\n",
        "for i in range(0,num_of_movies):\n",
        "  #retrieves movie id from the list\n",
        "  recommendation = recommendations[0]['recommendations'][i][0]\n",
        "  #runs movie id through a function that retrieves its name as a string\n",
        "  movieName = name_retriever(recommendation)\n",
        "\n",
        "  #prints out our movie name\n",
        "  print(i+1, \":\" + movieName)\n"
      ],
      "execution_count": 68,
      "outputs": [
        {
          "output_type": "stream",
          "text": [
            "recommendations for user : 0 \n",
            "1 :Brick (2005)\n",
            "2 :Mulholland Dr. (1999)\n",
            "3 :On the Beach (1959)\n",
            "4 :Chungking Express (Chung Hing sam lam) (1994)\n",
            "5 :Ninja Scroll (Jûbei ninpûchô) (1995)\n",
            "6 :Pierrot le fou (1965)\n",
            "7 :Split (2017)\n",
            "8 :Tadpole (2002)\n",
            "9 :\"Tao of Steve\n",
            "10 :\"Tinker\n"
          ],
          "name": "stdout"
        }
      ]
    },
    {
      "cell_type": "markdown",
      "metadata": {
        "id": "esfAudcmsbdc"
      },
      "source": [
        ""
      ]
    }
  ]
}